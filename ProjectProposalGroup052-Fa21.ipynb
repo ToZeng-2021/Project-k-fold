{
 "cells": [
  {
   "cell_type": "markdown",
   "metadata": {},
   "source": [
    "# COGS 108 - Final Project Proposal"
   ]
  },
  {
   "cell_type": "markdown",
   "metadata": {},
   "source": [
    "# Names\n",
    "\n",
    "- Will Sumerfield\n",
    "- Kaiyu Guan\n",
    "- Tong Zeng\n",
    "- Janty Sphabmixay"
   ]
  },
  {
   "cell_type": "markdown",
   "metadata": {},
   "source": [
    "# Research Question"
   ]
  },
  {
   "cell_type": "markdown",
   "metadata": {},
   "source": [
    "To what degree can we predict the crime rates in the cities of San Diego using data including population density,\n",
    "weather, temperature, income, and the number of police stations in these areas?"
   ]
  },
  {
   "cell_type": "markdown",
   "metadata": {},
   "source": [
    "# Background and Prior Work"
   ]
  },
  {
   "cell_type": "markdown",
   "metadata": {},
   "source": [
    "References (include links):\n",
    "- 1) [Geography of Crime](https://iopscience.iop.org/article/10.1088/1757-899X/245/7/072012/pdf)\n",
    "- 2) [Waitz Library Traffic Project](https://github.com/COGS108/FinalProjects-Wi18/blob/master/059-FinalProject.ipynb)\n",
    "\n",
    "## Geography of Crime\n",
    "### Summary\n",
    "This article from Turkey is a discussion and analysis of crime in the urban world, with the aim of helping inform future\n",
    " urban planning so as to avoid the facilitation of crime. Specifically, they suggest that urban crime due to the density\n",
    " of money in urban areas, the ease of escape, and the high proportion of people to law enforcement. They also suggest\n",
    "that places which are particularly prone to crime are chaotic/dense places, city/commerce centers, and places with\n",
    "few/no behavioral rules.\n",
    "\n",
    "### What We Learned\n",
    "- Density of Police could be a key feature to analyze\n",
    "- City Centers could be an additional feature to analyze\n",
    "- Certain types of crime may have creased during COVID-19 due to reduced crowding?\n",
    "\n",
    "## Waitz Library Traffic Project\n",
    "Our project focuses on analyzing past crime rates that have taken place throughout San Diego and the different factors that\n",
    "might come into effect when crimes are committed. These factors include crime, income, population density, weather and\n",
    "temperature, and the number of police stations located in an area.\n",
    "\n",
    "When reviewing previous COGS 108 final projects our group found a project called Waitz Library Traffic that includes a\n",
    "similar approach we hope to implement in our own project. The Waitz Library Traffic project’s main idea was to predict the\n",
    "traffic in UCSD’s libraries using various types of data including weather, classes schedules, shuttles, and traffic. After\n",
    "reviewing this project we have learned that it’s best to gather at least three various types of data in order to form a strong\n",
    "conclusion as well as to make sure our data collected is valid and within the same time period in order to ensure a strong\n",
    "dataset. With the information gathered after reviewing the Waitz Library Traffic project our group will be implementing the\n",
    "collection of five different datasets within the same time period as well as examining our data gathered to ensure its validity"
   ]
  },
  {
   "cell_type": "markdown",
   "metadata": {},
   "source": [
    "# Hypothesis"
   ]
  },
  {
   "cell_type": "markdown",
   "metadata": {},
   "source": [
    "Our hypotheses are that crimes rates are positively correlated with income and population density while negatively\n",
    "correlated with weather, temperature and number of police stations. Thus, using data from income map, weather forecasts\n",
    "and San Diego map, our group hypothesized that we could predict the future crimes rates in San Diego."
   ]
  },
  {
   "cell_type": "markdown",
   "metadata": {},
   "source": [
    "# Data"
   ]
  },
  {
   "cell_type": "markdown",
   "metadata": {},
   "source": [
    "Ideally, all of our datasets would be very large (tens of thousands of observations) and continually updated, so that we\n",
    " could reliably test our predictions.\n",
    "\n",
    "### Crime Dataset\n",
    "For our ideal crime dataset, data would be collected by police departments upon an official arrest. Our ideal crime\n",
    "dataset would take the following form:\n",
    "\n",
    "| Dates | Times | City District | Crime Type |\n",
    "| ----- | ----- | ------------- | ---------- |\n",
    "\n",
    "We are not interested in analyzing demographics in this study due to their complex nature in relation to statistics,\n",
    "and for ethical reasons.\n",
    "\n",
    "### Income\n",
    "Our ideal income dataset be recorded by the IRS via taxes. Although this method wil fail to capture 'unofficial' income,\n",
    "we expect this to be a relatively minor issue for our purposes. Our ideal income dataset would take the following form:\n",
    "\n",
    "| City | District | Annual Income |\n",
    "| ---- | -------- | ------------- |\n",
    "\n",
    "### Population Density\n",
    "Our ideal population density dataset would be recorded via the US Government. This would potentially exclude unofficial\n",
    "residents, but this error should be insignificant for our purposes. Our ideal population density dataset would take the\n",
    "following form:\n",
    "\n",
    "| City | District | Density |\n",
    "| ---- | -------- | ------- |\n",
    "\n",
    "### Weather and Temperature\n",
    "Our ideal weather/temperature dataset would be recorded via the National Weather Service. This would be actual recorded\n",
    "weather, and not predictions. Our ideal weather/temperature dataset would take the following form:\n",
    "\n",
    "| City | District | Weather Type | Temperature |\n",
    "| ---- | -------- | ------------ | ----------- |\n",
    "\n",
    "### Police Stations\n",
    "Our ideal police stations dataset would be recorded via the state of San Diego. If the number of police stations are not\n",
    " recorded regionally, then we may have to manually count them. Our ideal weather/temperature dataset would take the\n",
    "following form:\n",
    "\n",
    "| City | District | Police Stations |\n",
    "| ---- | -------- | --------------- |\n",
    "\n",
    "### Data Cleanliness\n",
    "Ideally, we will not have to do much data cleaning. This means that our data should have few null values. It will\n",
    "doubtless have extra columns, however."
   ]
  },
  {
   "cell_type": "markdown",
   "metadata": {},
   "source": [
    "# Ethics & Privacy"
   ]
  },
  {
   "cell_type": "markdown",
   "metadata": {},
   "source": [
    "In this project, some of our data (namely the crime reports) contains very personal information which could be used to\n",
    "identify the individuals in the study. However, since the names of those arrested are already visible in the publicly\n",
    "available dataset we are using, which is published by law enforcement, informed consent and data privacy aren't issues.\n",
    "Nonetheless, there are still several ethical considerations that need to be addressed. First, we will need to ensure\n",
    "that our data has been collected objectively, in order to avoid any bias in terms of data collection. Second, all\n",
    "datasets and results will be analyzed and visualized fairly and would not be manipulated to get a desired outcome.\n",
    "Third, group fairness will be addressed for the prediction model. That is, our prediction model should be able to apply\n",
    "to all cities in San Diego.\n",
    "\n",
    "## Bias\n",
    "\n",
    "### Crime Dataset\n",
    "As long as the police have collected and displayed this data by-the-book, there should be no bias in this data.\n",
    "\n",
    "### Income Dataset\n",
    "Income is likely to have strange bias in low income areas, due to the heightened presence of income not designated in\n",
    "taxes. This is likely to make the average income of lower income areas slightly lower than they actually are. We do not\n",
    "anticipate this error being a strong or meaningful contributor to error in predictions.\n",
    "\n",
    "### Population Density Dataset\n",
    "Population Density is likely to be biased towards fewer individuals in some places, due to a level of homeless and\n",
    "undocumented people. We do not anticipate this error being a strong or meaningful contributor to error in predictions.\n",
    "\n",
    "### Weather/Temperature Dataset\n",
    "Assuming we are able to find data from the National Weather Service, there should be no bias.\n",
    "\n",
    "### Police_Station Dataset\n",
    "Since this data is so straightforward, there should be no bias.\n",
    "\n",
    "### Special Note\n",
    "We should note that there is the concern of random correlation. We have chosen data which we think may correlate\n",
    "with crime, but we should not be hasty to assume that, just because we find a strong correlation between a dataset and\n",
    "crime, that this is because one causes the other, nor that they are even correlated at all. To help account for this,\n",
    "we plan to use only part of our data for training, and another part for testing if our predictions stand."
   ]
  },
  {
   "cell_type": "markdown",
   "metadata": {},
   "source": [
    "# Team Expectations "
   ]
  },
  {
   "cell_type": "markdown",
   "metadata": {},
   "source": [
    "* We Expect everyone to contribute to the completion of the project.\n",
    "* We expect everyone to come to the in-person meeting or zoom meeting that is held every week.\n",
    "* We are communicating with each other through iMessages and are expecting every group member to participate and\n",
    "respond to the discussion happening in the group chat.\n",
    "* We expect every group member to have their assigned duties completed before our meetings and the project due dates."
   ]
  },
  {
   "cell_type": "markdown",
   "metadata": {},
   "source": [
    "# Project Timeline Proposal"
   ]
  },
  {
   "cell_type": "markdown",
   "metadata": {},
   "source": [
    "| Meeting Date  | Meeting Time| Completed Before Meeting  | Discuss at Meeting |\n",
    "|---|---|---|---|\n",
    "| 10/27 | 11:00 AM | Download and clean 1 dataset each | Discuss dataset pros/cons, research additional dataset options, figure out model/regression options |\n",
    "| 11/3  | 11:00 AM | Finish cleaning data, learn about  our proposed models, and research methods of determining whether we have found true correlations | Talk about models we would use, and establish test and training set size |\n",
    "| 11/10 | 11:00 AM | Setup multiple Test/Training datasets, Test and play with models | Discuss models, discuss writeup |\n",
    "| 11/17 | 11:00 AM | Begin writeup, apply Regression models, try ML model | Discuss writeup, discuss models, set writeup deadlines |\n",
    "| 11/24 | 11:00 AM | Finish ML model, run test data on fished models, finish discussed writeup sections | Discuss ML model, discuss test results, discuss writeup |\n",
    "| 12/1  | 11:00 AM | Finish running tests on models, finish writeup | Discuss writeup |\n",
    "| 12/2  | NA       | Turn in Final Project & Group Project Surveys | NA |"
   ]
  }
 ],
 "metadata": {
  "kernelspec": {
   "display_name": "Python 3",
   "language": "python",
   "name": "python3"
  },
  "language_info": {
   "codemirror_mode": {
    "name": "ipython",
    "version": 3
   },
   "file_extension": ".py",
   "mimetype": "text/x-python",
   "name": "python",
   "nbconvert_exporter": "python",
   "pygments_lexer": "ipython3",
   "version": "3.8.8"
  }
 },
 "nbformat": 4,
 "nbformat_minor": 2
}