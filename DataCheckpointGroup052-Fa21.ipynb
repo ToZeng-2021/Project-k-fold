{
 "cells": [
  {
   "cell_type": "markdown",
   "metadata": {},
   "source": [
    "# COGS 108 - Data Checkpoint"
   ]
  },
  {
   "cell_type": "markdown",
   "metadata": {},
   "source": [
    "# Names\n",
    "\n",
    "- Tong Zeng\n",
    "- Kaiyu Guan\n",
    "- Will Sumerfield\n",
    "- Janty Sphabmixay"
   ]
  },
  {
   "cell_type": "markdown",
   "metadata": {},
   "source": [
    "<a id='research_question'></a>\n",
    "# Research Question"
   ]
  },
  {
   "cell_type": "markdown",
   "metadata": {},
   "source": [
    "To what degree can we predict the crime rates in the counties of San Diego using data including population density, weather, temperature, income, and the number of police stations in these areas?"
   ]
  },
  {
   "cell_type": "markdown",
   "metadata": {},
   "source": [
    "# Dataset(s)"
   ]
  },
  {
   "cell_type": "markdown",
   "metadata": {},
   "source": [
    "- **Dataset Name:** Monthly Temperature in all counties in California, 2016\n",
    "- **Link to the dataset:** https://www.ncdc.noaa.gov/cag/county/mapping/4/tavg/201902/1/value\n",
    "- **Number of observations:** 696\n",
    "\n",
    "This dataset contains the monthly information about the average temperature and precipitation of all 58 counties in\n",
    "California in 2016. This dataset is obtained by merging two datasets(average temperature, average precipitation)\n",
    "which are both accessible on NCDC.\n",
    "\n",
    "- **Dataset Name:** Police Per County 2016\n",
    "- **Link to the dataset:** https://github.com/COGS108/Group052-Fa21/blob/master/Datasets/Police/Police Per County 2016.csv\n",
    "- **Number of observations:** 58\n",
    "\n",
    "This dataset contains the number of policemen/women in the Counties of California in 2016.\n",
    "We acquired this data by downloading directly from fbi.gov where this data is completely public for everyone to use.\n",
    "\n",
    "- **Dataset Name:** Income Per County 2016\n",
    "- **Link to the dataset:** https://data.census.gov/cedsci/table?q=California%20Income&t=Earnings%20%28Individuals%29&g=0400000US06%240500000&tid=ACSST1Y2019.S1902\n",
    "- **Number of observations:** 40\n",
    "\n",
    "This dataset contains the Mean Income of counties in California in USD per year, along with the margin of error for that data.\n",
    "This data comes from the United States Census, and is available for public use.\n",
    "\n",
    "- **Dataset Name:** Population Density Per County\n",
    "- **Link to the dataset:** https://www.indexmundi.com/facts/united-states/quick-facts/california/population-density#table\n",
    "- **Number of observations:** 58\n",
    "\n",
    "This dataset contains the population density in people per square mile in each county, in 2016. This data comes from the California Government Data Portal called Open Justice.\n",
    "\n",
    "- **Dataset Name:** Arrests Per County\n",
    "- **Link to the dataset:** https://openjustice.doj.ca.gov/data\n",
    "- **Number of observations:** 2,476\n",
    "\n",
    "This dataset is still under processing. One group member (Janty) has been having technical issues with Jupyter Notebook,\n",
    "and has received permission from Professor Fleischer to complete this data by checkpoint 2."
   ]
  },
  {
   "cell_type": "markdown",
   "metadata": {},
   "source": [
    "# Setup"
   ]
  },
  {
   "cell_type": "code",
   "execution_count": 1,
   "metadata": {},
   "outputs": [],
   "source": [
    "import pandas as pd"
   ]
  },
  {
   "cell_type": "markdown",
   "metadata": {},
   "source": [
    "# Data Cleaning"
   ]
  },
  {
   "cell_type": "markdown",
   "metadata": {},
   "source": [
    "We first download the four datasets from the websites respectively.\n",
    "Then we retrieve columns that contain our desired variables, rename those columns to be more comprehensive,\n",
    "and check for null values."
   ]
  },
  {
   "cell_type": "markdown",
   "metadata": {},
   "source": [
    "<b>Weather</b>"
   ]
  },
  {
   "cell_type": "code",
   "execution_count": 2,
   "metadata": {},
   "outputs": [
    {
     "data": {
      "text/html": [
       "<div>\n",
       "<style scoped>\n",
       "    .dataframe tbody tr th:only-of-type {\n",
       "        vertical-align: middle;\n",
       "    }\n",
       "\n",
       "    .dataframe tbody tr th {\n",
       "        vertical-align: top;\n",
       "    }\n",
       "\n",
       "    .dataframe thead th {\n",
       "        text-align: right;\n",
       "    }\n",
       "</style>\n",
       "<table border=\"1\" class=\"dataframe\">\n",
       "  <thead>\n",
       "    <tr style=\"text-align: right;\">\n",
       "      <th></th>\n",
       "      <th>County</th>\n",
       "      <th>Month</th>\n",
       "      <th>Avg_Temperature</th>\n",
       "      <th>Avg_Precipitation</th>\n",
       "    </tr>\n",
       "  </thead>\n",
       "  <tbody>\n",
       "    <tr>\n",
       "      <th>0</th>\n",
       "      <td>Alameda</td>\n",
       "      <td>1</td>\n",
       "      <td>50.0</td>\n",
       "      <td>5.65</td>\n",
       "    </tr>\n",
       "    <tr>\n",
       "      <th>1</th>\n",
       "      <td>Alameda</td>\n",
       "      <td>2</td>\n",
       "      <td>55.2</td>\n",
       "      <td>0.84</td>\n",
       "    </tr>\n",
       "    <tr>\n",
       "      <th>2</th>\n",
       "      <td>Alameda</td>\n",
       "      <td>3</td>\n",
       "      <td>55.1</td>\n",
       "      <td>5.25</td>\n",
       "    </tr>\n",
       "    <tr>\n",
       "      <th>3</th>\n",
       "      <td>Alameda</td>\n",
       "      <td>4</td>\n",
       "      <td>59.1</td>\n",
       "      <td>1.94</td>\n",
       "    </tr>\n",
       "    <tr>\n",
       "      <th>4</th>\n",
       "      <td>Alameda</td>\n",
       "      <td>5</td>\n",
       "      <td>62.8</td>\n",
       "      <td>0.24</td>\n",
       "    </tr>\n",
       "  </tbody>\n",
       "</table>\n",
       "</div>"
      ],
      "text/plain": [
       "    County  Month  Avg_Temperature  Avg_Precipitation\n",
       "0  Alameda      1             50.0               5.65\n",
       "1  Alameda      2             55.2               0.84\n",
       "2  Alameda      3             55.1               5.25\n",
       "3  Alameda      4             59.1               1.94\n",
       "4  Alameda      5             62.8               0.24"
      ]
     },
     "execution_count": 2,
     "metadata": {},
     "output_type": "execute_result"
    }
   ],
   "source": [
    "#import precipitation dataset and temperature dataset\n",
    "precip = pd.read_csv('Datasets/Weather/precip.csv')\n",
    "temp = pd.read_csv('Datasets/Weather/temp.csv')\n",
    "\n",
    "#Retrive data in 2016 only\n",
    "temp = temp[temp['Date'].astype('str').str.contains('2016')]\n",
    "precip = precip[precip['Date'].astype('str').str.contains('2016')]\n",
    "\n",
    "#Retrive columns with useful information\n",
    "temp = temp[['Location', 'Date', 'Value']]\n",
    "precip = precip[['Location', 'Date', 'Value']]\n",
    "\n",
    "#Rename columns\n",
    "temp.columns = ['County', 'Month', 'Avg_Temperature']\n",
    "precip.columns = ['County', 'Month', 'Avg_Precipitation']\n",
    "\n",
    "#Merge the two datasets\n",
    "weather = temp.merge(precip)\n",
    "\n",
    "#Returns the month of the str\n",
    "def find_month(date):\n",
    "    return int(str(date)[-2:])\n",
    "\n",
    "#Returns the county name from the given str\n",
    "def county(coun):\n",
    "    return coun.strip(' County')\n",
    "\n",
    "#Apply the functions to find the month and county name\n",
    "weather['Month'] = weather['Month'].apply(find_month)\n",
    "weather['County'] = weather['County'].apply(county)\n",
    "\n",
    "weather.head()"
   ]
  },
  {
   "cell_type": "markdown",
   "metadata": {},
   "source": [
    "<b>Police</b>"
   ]
  },
  {
   "cell_type": "code",
   "execution_count": 3,
   "metadata": {},
   "outputs": [
    {
     "data": {
      "text/html": [
       "<div>\n",
       "<style scoped>\n",
       "    .dataframe tbody tr th:only-of-type {\n",
       "        vertical-align: middle;\n",
       "    }\n",
       "\n",
       "    .dataframe tbody tr th {\n",
       "        vertical-align: top;\n",
       "    }\n",
       "\n",
       "    .dataframe thead th {\n",
       "        text-align: right;\n",
       "    }\n",
       "</style>\n",
       "<table border=\"1\" class=\"dataframe\">\n",
       "  <thead>\n",
       "    <tr style=\"text-align: right;\">\n",
       "      <th></th>\n",
       "      <th>County</th>\n",
       "      <th>Total Officers</th>\n",
       "    </tr>\n",
       "  </thead>\n",
       "  <tbody>\n",
       "    <tr>\n",
       "      <th>0</th>\n",
       "      <td>Alameda</td>\n",
       "      <td>1,564</td>\n",
       "    </tr>\n",
       "    <tr>\n",
       "      <th>1</th>\n",
       "      <td>Butte</td>\n",
       "      <td>269</td>\n",
       "    </tr>\n",
       "    <tr>\n",
       "      <th>2</th>\n",
       "      <td>Contra Costa</td>\n",
       "      <td>957</td>\n",
       "    </tr>\n",
       "    <tr>\n",
       "      <th>3</th>\n",
       "      <td>El Dorado</td>\n",
       "      <td>349</td>\n",
       "    </tr>\n",
       "    <tr>\n",
       "      <th>4</th>\n",
       "      <td>Fresno</td>\n",
       "      <td>1,104</td>\n",
       "    </tr>\n",
       "  </tbody>\n",
       "</table>\n",
       "</div>"
      ],
      "text/plain": [
       "         County Total Officers\n",
       "0       Alameda          1,564\n",
       "1         Butte            269\n",
       "2  Contra Costa            957\n",
       "3     El Dorado            349\n",
       "4        Fresno          1,104"
      ]
     },
     "execution_count": 3,
     "metadata": {},
     "output_type": "execute_result"
    }
   ],
   "source": [
    "#Read the police dataset\n",
    "police = pd.read_csv('Datasets/Police Per County/Police Per County 2016.csv')\n",
    "\n",
    "#Drop first four unnessary rows\n",
    "police = police.drop(police.index[[0, 1, 2, 3]])\n",
    "\n",
    "#Reindex the dataset\n",
    "police = police.reset_index(drop = True)\n",
    "\n",
    "#Drop an empty column\n",
    "police = police.drop(['Table 28'], axis = 1)\n",
    "\n",
    "#Rename the columns\n",
    "police.columns = ['County', 'Total Officers', 'Officers', 'Civilian Officers']\n",
    "\n",
    "#Extract certain columns from the dataset\n",
    "police = police[['County', 'Total Officers']]\n",
    "police.head()"
   ]
  },
  {
   "cell_type": "markdown",
   "metadata": {
    "pycharm": {
     "name": "#%% md\n"
    }
   },
   "source": [
    "<b>Income Per County</b>"
   ]
  },
  {
   "cell_type": "code",
   "execution_count": 4,
   "metadata": {
    "pycharm": {
     "name": "#%%\n"
    }
   },
   "outputs": [
    {
     "data": {
      "text/html": [
       "<div>\n",
       "<style scoped>\n",
       "    .dataframe tbody tr th:only-of-type {\n",
       "        vertical-align: middle;\n",
       "    }\n",
       "\n",
       "    .dataframe tbody tr th {\n",
       "        vertical-align: top;\n",
       "    }\n",
       "\n",
       "    .dataframe thead th {\n",
       "        text-align: right;\n",
       "    }\n",
       "</style>\n",
       "<table border=\"1\" class=\"dataframe\">\n",
       "  <thead>\n",
       "    <tr style=\"text-align: right;\">\n",
       "      <th></th>\n",
       "      <th>County</th>\n",
       "      <th>Mean Income Per Capita</th>\n",
       "      <th>Mean Income Per Capita Margin of Error</th>\n",
       "    </tr>\n",
       "  </thead>\n",
       "  <tbody>\n",
       "    <tr>\n",
       "      <th>0</th>\n",
       "      <td>Alameda County, California</td>\n",
       "      <td>42376</td>\n",
       "      <td>720</td>\n",
       "    </tr>\n",
       "    <tr>\n",
       "      <th>1</th>\n",
       "      <td>Butte County, California</td>\n",
       "      <td>25938</td>\n",
       "      <td>1552</td>\n",
       "    </tr>\n",
       "    <tr>\n",
       "      <th>2</th>\n",
       "      <td>Contra Costa County, California</td>\n",
       "      <td>43120</td>\n",
       "      <td>871</td>\n",
       "    </tr>\n",
       "    <tr>\n",
       "      <th>3</th>\n",
       "      <td>El Dorado County, California</td>\n",
       "      <td>39284</td>\n",
       "      <td>3087</td>\n",
       "    </tr>\n",
       "    <tr>\n",
       "      <th>4</th>\n",
       "      <td>Fresno County, California</td>\n",
       "      <td>22518</td>\n",
       "      <td>603</td>\n",
       "    </tr>\n",
       "  </tbody>\n",
       "</table>\n",
       "</div>"
      ],
      "text/plain": [
       "                            County Mean Income Per Capita  \\\n",
       "0       Alameda County, California                  42376   \n",
       "1         Butte County, California                  25938   \n",
       "2  Contra Costa County, California                  43120   \n",
       "3     El Dorado County, California                  39284   \n",
       "4        Fresno County, California                  22518   \n",
       "\n",
       "  Mean Income Per Capita Margin of Error  \n",
       "0                                    720  \n",
       "1                                   1552  \n",
       "2                                    871  \n",
       "3                                   3087  \n",
       "4                                    603  "
      ]
     },
     "execution_count": 4,
     "metadata": {},
     "output_type": "execute_result"
    }
   ],
   "source": [
    "# Import the Income Dataset\n",
    "income = pd.read_csv(\"Datasets/Income Per Capita/Income Per Capita 2016.csv\")\n",
    "\n",
    "# Rename the columns to the real names\n",
    "income = income.rename(columns=income.iloc[0, :])\n",
    "\n",
    "# Remove the old columns row\n",
    "income = income.iloc[1:, :]\n",
    "\n",
    "# Remove the California Summary Row\n",
    "income = income.drop(income.index[40])\n",
    "\n",
    "# Retrieve only the column containing the mean income of households\n",
    "income = income[[\"Geographic Area Name\",\n",
    "                 \"Mean income (dollars)!!Estimate!!PER CAPITA INCOME BY RACE AND HISPANIC OR LATINO ORIGIN!!Total population\",\n",
    "                 \"Mean income (dollars)!!Margin of Error!!PER CAPITA INCOME BY RACE AND HISPANIC OR LATINO ORIGIN!!Total population\"]]\n",
    "\n",
    "# Rename the columns to be more readable\n",
    "income.columns = [\"County\", \"Mean Income Per Capita\", \"Mean Income Per Capita Margin of Error\"]\n",
    "\n",
    "# Reindex the rows\n",
    "income = income.reset_index(drop=True)\n",
    "\n",
    "# Print the Dataset and Summary\n",
    "income.head()"
   ]
  },
  {
   "cell_type": "markdown",
   "metadata": {
    "pycharm": {
     "name": "#%% md\n"
    }
   },
   "source": [
    "**Population Density**\n",
    "\n",
    "No Cleaning Needed!"
   ]
  },
  {
   "cell_type": "markdown",
   "metadata": {
    "pycharm": {
     "name": "#%% md\n"
    }
   },
   "source": [
    "**Crime**"
   ]
  },
  {
   "cell_type": "code",
   "execution_count": 26,
   "metadata": {},
   "outputs": [
    {
     "name": "stderr",
     "output_type": "stream",
     "text": [
      "D:\\Anaconda\\lib\\site-packages\\IPython\\core\\interactiveshell.py:3165: DtypeWarning: Columns (21,22,23,24,25) have mixed types.Specify dtype option on import or set low_memory=False.\n",
      "  has_raised = await self.run_ast_nodes(code_ast.body, cell_name,\n"
     ]
    },
    {
     "data": {
      "text/html": [
       "<div>\n",
       "<style scoped>\n",
       "    .dataframe tbody tr th:only-of-type {\n",
       "        vertical-align: middle;\n",
       "    }\n",
       "\n",
       "    .dataframe tbody tr th {\n",
       "        vertical-align: top;\n",
       "    }\n",
       "\n",
       "    .dataframe thead th {\n",
       "        text-align: right;\n",
       "    }\n",
       "</style>\n",
       "<table border=\"1\" class=\"dataframe\">\n",
       "  <thead>\n",
       "    <tr style=\"text-align: right;\">\n",
       "      <th></th>\n",
       "      <th>Year</th>\n",
       "      <th>County</th>\n",
       "      <th>Sum of Crimes</th>\n",
       "    </tr>\n",
       "  </thead>\n",
       "  <tbody>\n",
       "    <tr>\n",
       "      <th>834</th>\n",
       "      <td>2010</td>\n",
       "      <td>fresno</td>\n",
       "      <td>436</td>\n",
       "    </tr>\n",
       "    <tr>\n",
       "      <th>835</th>\n",
       "      <td>2011</td>\n",
       "      <td>fresno</td>\n",
       "      <td>394</td>\n",
       "    </tr>\n",
       "    <tr>\n",
       "      <th>836</th>\n",
       "      <td>2012</td>\n",
       "      <td>fresno</td>\n",
       "      <td>428</td>\n",
       "    </tr>\n",
       "    <tr>\n",
       "      <th>837</th>\n",
       "      <td>2013</td>\n",
       "      <td>fresno</td>\n",
       "      <td>484</td>\n",
       "    </tr>\n",
       "    <tr>\n",
       "      <th>838</th>\n",
       "      <td>2014</td>\n",
       "      <td>fresno</td>\n",
       "      <td>296</td>\n",
       "    </tr>\n",
       "  </tbody>\n",
       "</table>\n",
       "</div>"
      ],
      "text/plain": [
       "     Year   County  Sum of Crimes\n",
       "834  2010  fresno             436\n",
       "835  2011  fresno             394\n",
       "836  2012  fresno             428\n",
       "837  2013  fresno             484\n",
       "838  2014  fresno             296"
      ]
     },
     "execution_count": 26,
     "metadata": {},
     "output_type": "execute_result"
    }
   ],
   "source": [
    "# Import the Crime Dataset\n",
    "crime = pd.read_csv(\"Datasets/Crimes Per County/Crimes_and_Clearances.csv\")\n",
    "\n",
    "# Retriving Data containing Years 2010-2019 \n",
    "#crime = crime[crime['Year'].astype('int').isin.contains('2016')]\n",
    "#crime = crime['Year'].isin(['2016'])\n",
    "\n",
    "crime = crime[(crime['Year'] >= 2010) & (crime['Year'] <= 2019)]\n",
    "\n",
    "# Lower Case the County Names\n",
    "crime['County'] = crime['County'].str.lower()\n",
    "\n",
    "# Stripping 'County' from County Names\n",
    "def county(county_name):\n",
    "    return county_name.strip('county')\n",
    "\n",
    "# Returns the Stripped County Names\n",
    "crime['County'] = crime['County'].apply(county)\n",
    "\n",
    "# Sum Crime Columns\n",
    "crime_sum = crime['Violent_sum'] + crime['Homicide_sum'] + crime['ForRape_sum'] + crime['Robbery_sum'] + crime['AggAssault_sum'] + crime['Property_sum'] + crime['Burglary_sum'] +  crime['VehicleTheft_sum'] + crime['LTtotal_sum']\n",
    "crime['Sum of Crimes'] = crime_sum\n",
    "\n",
    "# Drop\n",
    "crime = crime.drop(columns=['NCICCode', 'Violent_sum', 'Homicide_sum', 'ForRape_sum',\n",
    "                            'Robbery_sum', 'AggAssault_sum','Property_sum', 'Burglary_sum',\n",
    "                            'VehicleTheft_sum', 'LTtotal_sum', 'ViolentClr_sum', 'HomicideClr_sum',\n",
    "                            'ForRapeClr_sum', 'RobberyClr_sum', 'AggAssaultClr_sum', 'PropertyClr_sum',\n",
    "                            'BurglaryClr_sum', 'VehicleTheftClr_sum', 'LTtotalClr_sum', 'TotalStructural_sum',\n",
    "                            'TotalMobile_sum', 'TotalOther_sum', 'GrandTotal_sum', 'GrandTotClr_sum',\n",
    "                            'RAPact_sum', 'ARAPact_sum', 'FROBact_sum', 'KROBact_sum', 'OROBact_sum',\n",
    "                            'SROBact_sum', 'HROBnao_sum', 'CHROBnao_sum', 'GROBnao_sum', 'CROBnao_sum',\n",
    "                            'RROBnao_sum', 'BROBnao_sum', 'MROBnao_sum', 'FASSact_sum', 'KASSact_sum', \n",
    "                            'OASSact_sum', 'HASSact_sum', 'FEBURact_Sum', 'UBURact_sum', 'RESDBUR_sum',\n",
    "                            'RNBURnao_sum', 'RDBURnao_sum', 'RUBURnao_sum', 'NRESBUR_sum', 'NNBURnao_sum',\n",
    "                            'NDBURnao_sum', 'NUBURnao_sum', 'MVTact_sum', 'TMVTact_sum', 'OMVTact_sum',\n",
    "                            'PPLARnao_sum', 'PSLARnao_sum', 'PSLARnao_sum', 'SLLARnao_sum', 'MVLARnao_sum',\n",
    "                            'MVPLARnao_sum', 'BILARnao_sum', 'FBLARnao_sum', 'COMLARnao_sum', 'AOLARnao_sum',\n",
    "                            'LT400nao_sum', 'LT200400nao_sum', 'LT50200nao_sum', 'LT50nao_sum'])\n",
    "\n",
    "# Print Arrests Dataset\n",
    "crime.head()"
   ]
  },
  {
   "cell_type": "code",
   "execution_count": null,
   "metadata": {},
   "outputs": [],
   "source": []
  }
 ],
 "metadata": {
  "kernelspec": {
   "display_name": "Python 3",
   "language": "python",
   "name": "python3"
  },
  "language_info": {
   "codemirror_mode": {
    "name": "ipython",
    "version": 3
   },
   "file_extension": ".py",
   "mimetype": "text/x-python",
   "name": "python",
   "nbconvert_exporter": "python",
   "pygments_lexer": "ipython3",
   "version": "3.8.8"
  }
 },
 "nbformat": 4,
 "nbformat_minor": 4
}
